{
 "cells": [
  {
   "cell_type": "code",
   "execution_count": 3,
   "id": "ae3f8e38-fb71-43b9-86b9-7aa124bf0988",
   "metadata": {},
   "outputs": [
    {
     "name": "stdout",
     "output_type": "stream",
     "text": [
      "Overwriting app8.py\n"
     ]
    }
   ],
   "source": [
    "%%writefile app8.py\n",
    "import streamlit as st\n",
    "import pandas as pd\n",
    "import numpy as np\n",
    "import plotly.express as px\n",
    "import matplotlib.pyplot as plt\n",
    "import seaborn as sns\n",
    "\n",
    "st.set_page_config(layout = 'wide', page_title = 'Heart Disease Analysis Dashboard')\n",
    "st.title(\"Heart Disease Analysis Dashboard\")\n",
    "tab1,tab2,tab3=st.tabs (['Data exploration','Data analysis','Data visualization'])\n",
    "\n",
    "with tab1:\n",
    "    st.text(\" Here’s a brief explanation of the columns:\\n\\\n",
    "                  *   age: Age of the patient (in years).\\n\\\n",
    "                  * sex: Gender of the patient (1 = male, 0 = female).\\n\\\n",
    "                  * cp: Chest pain type (0 = typical angina, 1 = atypical angina,\\n\\\n",
    "                         2 = non-anginal pain, 3 = asymptomatic).\\n\\\n",
    "                  * trestbps: Resting blood pressure (in mm Hg).\\n\\\n",
    "                  * chol: Serum cholesterol level (in mg/dL).\\n\\\n",
    "                  * fbs: Fasting blood sugar > 120 mg/dL (1 = true, 0 = false).\\n\\\n",
    "                  * restecg: Resting electrocardiographic results (0 = normal, \\n\\\n",
    "                        1 =  ST-T wave abnormality, 2 = left ventricular hypertrophy).\\n\\\n",
    "                  * thalach: Maximum heart rate achieved during exercise.\\n\\\n",
    "                  * exang: Exercise-induced angina (1 = yes, 0 = no).\\n\\\n",
    "                  * oldpeak: ST depression induced by exercise relative to rest.\\n\\\n",
    "                  * slope: Slope of the peak exercise ST segment (0 = upsloping, \\n\\\n",
    "                  1 = flat, 2 = downsloping).\\n\\\n",
    "                  * ca: Number of major vessels (0-3) colored by fluoroscopy.\\n\\\n",
    "                  * thal: Thalassemia (1 = normal, 2 = fixed defect, 3 = reversible defect).\\n\\\n",
    "                 * target: Presence of heart disease (0 = no disease, 1 = disease)?.\")\n",
    "    df = pd.read_excel('heart_clean.xlsx')\n",
    "    st.latex(r'''\\text{numerical Descriptive Statistics}''')\n",
    "    basic_statistics_category=df.describe(include='O').T\n",
    "    st.table(df.describe().T)\n",
    "    st.latex(r'''\\text{Descriptive Statistics for Categorical Columns}''')\n",
    "    st.table(basic_statistics_category)\n",
    "      \n",
    "with tab3:\n",
    "    col1, col2  = st.columns(2)\n",
    "    \n",
    "    with col1:\n",
    "       target_counts = df['target'].value_counts()\n",
    "       fig1= px.bar(target_counts, x=target_counts.index, y=target_counts.values,\n",
    "             labels={'x': 'Target', 'y': 'Count'},\n",
    "             title='Distribution of Target Variable',\n",
    "             color=target_counts.index,\n",
    "             color_discrete_map={0: 'green', 1: 'red'},height=700,width=500)\n",
    "       st.plotly_chart(fig1, use_container_width=True)\n",
    "       fig2 = px.scatter(df, x='age', y='chol', color='target',\n",
    "                 title='Age vs. Cholesterol',\n",
    "                 labels={'age': 'Age', 'chol': 'Cholesterol'},\n",
    "                 marginal_x='histogram',marginal_y='box',height=1000,width=1000)\n",
    "       st.plotly_chart(fig2, use_container_width=True)\n",
    "       df_sorted_ascending = df.sort_values(by='age', inplace=True)\n",
    "       age_labels = ['20-30', '30-40', '40-50', '50-60', '60-70', '70-80']  \n",
    "       bins=[20,30,40,50,60,70,80]\n",
    "       df['age_group'] = pd.cut(df['age'], bins=bins, labels=age_labels)\n",
    "       fig3 = px.histogram(df, x='age_group', color='target', barmode='group',\n",
    "                   title='Age Distribution by Gender',\n",
    "                   labels={'age_group': 'Age Group', 'sex': 'Gender'})\n",
    "       st.plotly_chart(fig3, use_container_width=True)\n",
    "    with col2:\n",
    "      fig1 = px.histogram(df, x='age', nbins=20,\n",
    "                   title='Age Distribution',\n",
    "                   labels={'age': 'Age'},\n",
    "                   color=\"sex\",height=700,width=700)\n",
    "      st.plotly_chart(fig1, use_container_width=True)\n",
    "      fig2=px.imshow(df.select_dtypes(include=np.number).corr().round(2), height=700, width=800,text_auto=True)  \n",
    "      st.plotly_chart(fig2, use_container_width=True)\n",
    "      fig3 = px.scatter_matrix(df, dimensions=['age', 'trestbps', 'chol', 'thalach'],\n",
    "                        color='target',\n",
    "                        title='Pair Plot of Selected Features')\n",
    "      st.plotly_chart(fig3, use_container_width=True)"
   ]
  },
  {
   "cell_type": "code",
   "execution_count": null,
   "id": "c372435f-2e52-49c3-b7ea-79ac9c9698fc",
   "metadata": {},
   "outputs": [],
   "source": [
    "! streamlit run app8.py"
   ]
  },
  {
   "cell_type": "code",
   "execution_count": null,
   "id": "1181a362-6509-4196-a80c-a48208092131",
   "metadata": {},
   "outputs": [],
   "source": [
    "\n",
    "\n",
    "\n"
   ]
  }
 ],
 "metadata": {
  "kernelspec": {
   "display_name": "Python 3 (ipykernel)",
   "language": "python",
   "name": "python3"
  },
  "language_info": {
   "codemirror_mode": {
    "name": "ipython",
    "version": 3
   },
   "file_extension": ".py",
   "mimetype": "text/x-python",
   "name": "python",
   "nbconvert_exporter": "python",
   "pygments_lexer": "ipython3",
   "version": "3.12.7"
  }
 },
 "nbformat": 4,
 "nbformat_minor": 5
}
